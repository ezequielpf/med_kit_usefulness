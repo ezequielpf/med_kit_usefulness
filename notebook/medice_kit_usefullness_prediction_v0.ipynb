{
 "cells": [
  {
   "cell_type": "markdown",
   "metadata": {},
   "source": [
    "# The task\n",
    "\n",
    "Make predictions about the usefullness of a medicine kit for humans\n",
    "\n",
    "- ``Target``: 0 is usefull, 1 is not usefull"
   ]
  },
  {
   "cell_type": "code",
   "execution_count": 1,
   "metadata": {},
   "outputs": [],
   "source": [
    "import pandas as pd\n",
    "import matplotlib.pyplot as plt\n",
    "import seaborn as sns\n",
    "sns.set_theme(style=\"whitegrid\")"
   ]
  },
  {
   "cell_type": "code",
   "execution_count": 2,
   "metadata": {},
   "outputs": [],
   "source": [
    "df_train = pd.read_csv(filepath_or_buffer=\"../data/raw/train.csv\")\n",
    "df_test = pd.read_csv(filepath_or_buffer=\"../data/raw/test.csv\")"
   ]
  },
  {
   "cell_type": "code",
   "execution_count": 3,
   "metadata": {},
   "outputs": [
    {
     "data": {
      "text/html": [
       "<div>\n",
       "<style scoped>\n",
       "    .dataframe tbody tr th:only-of-type {\n",
       "        vertical-align: middle;\n",
       "    }\n",
       "\n",
       "    .dataframe tbody tr th {\n",
       "        vertical-align: top;\n",
       "    }\n",
       "\n",
       "    .dataframe thead th {\n",
       "        text-align: right;\n",
       "    }\n",
       "</style>\n",
       "<table border=\"1\" class=\"dataframe\">\n",
       "  <thead>\n",
       "    <tr style=\"text-align: right;\">\n",
       "      <th></th>\n",
       "      <th>ID</th>\n",
       "      <th>Distributor</th>\n",
       "      <th>Product</th>\n",
       "      <th>Duration</th>\n",
       "      <th>Destination</th>\n",
       "      <th>Sales</th>\n",
       "      <th>Commission</th>\n",
       "      <th>Gender</th>\n",
       "      <th>Age</th>\n",
       "      <th>Target</th>\n",
       "    </tr>\n",
       "  </thead>\n",
       "  <tbody>\n",
       "    <tr>\n",
       "      <th>0</th>\n",
       "      <td>fffe3800370038003900</td>\n",
       "      <td>7</td>\n",
       "      <td>1</td>\n",
       "      <td>22</td>\n",
       "      <td>122</td>\n",
       "      <td>31.0</td>\n",
       "      <td>0.00</td>\n",
       "      <td>NaN</td>\n",
       "      <td>20</td>\n",
       "      <td>0</td>\n",
       "    </tr>\n",
       "    <tr>\n",
       "      <th>1</th>\n",
       "      <td>fffe34003200370037003500</td>\n",
       "      <td>7</td>\n",
       "      <td>1</td>\n",
       "      <td>26</td>\n",
       "      <td>52</td>\n",
       "      <td>22.0</td>\n",
       "      <td>0.00</td>\n",
       "      <td>NaN</td>\n",
       "      <td>36</td>\n",
       "      <td>0</td>\n",
       "    </tr>\n",
       "    <tr>\n",
       "      <th>2</th>\n",
       "      <td>fffe32003100320030003200</td>\n",
       "      <td>7</td>\n",
       "      <td>10</td>\n",
       "      <td>15</td>\n",
       "      <td>83</td>\n",
       "      <td>63.0</td>\n",
       "      <td>0.00</td>\n",
       "      <td>NaN</td>\n",
       "      <td>34</td>\n",
       "      <td>0</td>\n",
       "    </tr>\n",
       "    <tr>\n",
       "      <th>3</th>\n",
       "      <td>fffe34003400310037003000</td>\n",
       "      <td>8</td>\n",
       "      <td>25</td>\n",
       "      <td>24</td>\n",
       "      <td>55</td>\n",
       "      <td>62.0</td>\n",
       "      <td>24.80</td>\n",
       "      <td>0.0</td>\n",
       "      <td>118</td>\n",
       "      <td>0</td>\n",
       "    </tr>\n",
       "    <tr>\n",
       "      <th>4</th>\n",
       "      <td>fffe32003400390038003000</td>\n",
       "      <td>6</td>\n",
       "      <td>16</td>\n",
       "      <td>12</td>\n",
       "      <td>122</td>\n",
       "      <td>19.8</td>\n",
       "      <td>11.88</td>\n",
       "      <td>NaN</td>\n",
       "      <td>26</td>\n",
       "      <td>0</td>\n",
       "    </tr>\n",
       "  </tbody>\n",
       "</table>\n",
       "</div>"
      ],
      "text/plain": [
       "                         ID  Distributor  Product  Duration  Destination  \\\n",
       "0      fffe3800370038003900            7        1        22          122   \n",
       "1  fffe34003200370037003500            7        1        26           52   \n",
       "2  fffe32003100320030003200            7       10        15           83   \n",
       "3  fffe34003400310037003000            8       25        24           55   \n",
       "4  fffe32003400390038003000            6       16        12          122   \n",
       "\n",
       "   Sales  Commission  Gender  Age  Target  \n",
       "0   31.0        0.00     NaN   20       0  \n",
       "1   22.0        0.00     NaN   36       0  \n",
       "2   63.0        0.00     NaN   34       0  \n",
       "3   62.0       24.80     0.0  118       0  \n",
       "4   19.8       11.88     NaN   26       0  "
      ]
     },
     "execution_count": 3,
     "metadata": {},
     "output_type": "execute_result"
    }
   ],
   "source": [
    "df_train.head()"
   ]
  },
  {
   "cell_type": "code",
   "execution_count": 4,
   "metadata": {},
   "outputs": [
    {
     "name": "stdout",
     "output_type": "stream",
     "text": [
      "<class 'pandas.core.frame.DataFrame'>\n",
      "RangeIndex: 6736 entries, 0 to 6735\n",
      "Data columns (total 10 columns):\n",
      " #   Column       Non-Null Count  Dtype  \n",
      "---  ------       --------------  -----  \n",
      " 0   ID           6736 non-null   object \n",
      " 1   Distributor  6736 non-null   int64  \n",
      " 2   Product      6736 non-null   int64  \n",
      " 3   Duration     6736 non-null   int64  \n",
      " 4   Destination  6736 non-null   int64  \n",
      " 5   Sales        6736 non-null   float64\n",
      " 6   Commission   6736 non-null   float64\n",
      " 7   Gender       2032 non-null   float64\n",
      " 8   Age          6736 non-null   int64  \n",
      " 9   Target       6736 non-null   int64  \n",
      "dtypes: float64(3), int64(6), object(1)\n",
      "memory usage: 526.4+ KB\n"
     ]
    }
   ],
   "source": [
    "df_train.info()"
   ]
  },
  {
   "cell_type": "code",
   "execution_count": 5,
   "metadata": {},
   "outputs": [
    {
     "data": {
      "text/html": [
       "<div>\n",
       "<style scoped>\n",
       "    .dataframe tbody tr th:only-of-type {\n",
       "        vertical-align: middle;\n",
       "    }\n",
       "\n",
       "    .dataframe tbody tr th {\n",
       "        vertical-align: top;\n",
       "    }\n",
       "\n",
       "    .dataframe thead th {\n",
       "        text-align: right;\n",
       "    }\n",
       "</style>\n",
       "<table border=\"1\" class=\"dataframe\">\n",
       "  <thead>\n",
       "    <tr style=\"text-align: right;\">\n",
       "      <th></th>\n",
       "      <th>ID</th>\n",
       "      <th>Distributor</th>\n",
       "      <th>Product</th>\n",
       "      <th>Duration</th>\n",
       "      <th>Destination</th>\n",
       "      <th>Sales</th>\n",
       "      <th>Commission</th>\n",
       "      <th>Gender</th>\n",
       "      <th>Age</th>\n",
       "    </tr>\n",
       "  </thead>\n",
       "  <tbody>\n",
       "    <tr>\n",
       "      <th>0</th>\n",
       "      <td>fffe31003600330038003500</td>\n",
       "      <td>6</td>\n",
       "      <td>16</td>\n",
       "      <td>8</td>\n",
       "      <td>60</td>\n",
       "      <td>69.30</td>\n",
       "      <td>41.58</td>\n",
       "      <td>NaN</td>\n",
       "      <td>51</td>\n",
       "    </tr>\n",
       "    <tr>\n",
       "      <th>1</th>\n",
       "      <td>fffe33003600300031003400</td>\n",
       "      <td>2</td>\n",
       "      <td>4</td>\n",
       "      <td>368</td>\n",
       "      <td>112</td>\n",
       "      <td>161.00</td>\n",
       "      <td>40.25</td>\n",
       "      <td>0.0</td>\n",
       "      <td>51</td>\n",
       "    </tr>\n",
       "    <tr>\n",
       "      <th>2</th>\n",
       "      <td>fffe320033003300</td>\n",
       "      <td>2</td>\n",
       "      <td>4</td>\n",
       "      <td>387</td>\n",
       "      <td>112</td>\n",
       "      <td>291.75</td>\n",
       "      <td>72.94</td>\n",
       "      <td>0.0</td>\n",
       "      <td>51</td>\n",
       "    </tr>\n",
       "    <tr>\n",
       "      <th>3</th>\n",
       "      <td>fffe390039003800</td>\n",
       "      <td>7</td>\n",
       "      <td>10</td>\n",
       "      <td>4</td>\n",
       "      <td>25</td>\n",
       "      <td>18.00</td>\n",
       "      <td>0.00</td>\n",
       "      <td>NaN</td>\n",
       "      <td>36</td>\n",
       "    </tr>\n",
       "    <tr>\n",
       "      <th>4</th>\n",
       "      <td>fffe3500350031003000</td>\n",
       "      <td>11</td>\n",
       "      <td>20</td>\n",
       "      <td>40</td>\n",
       "      <td>59</td>\n",
       "      <td>39.50</td>\n",
       "      <td>25.68</td>\n",
       "      <td>0.0</td>\n",
       "      <td>38</td>\n",
       "    </tr>\n",
       "  </tbody>\n",
       "</table>\n",
       "</div>"
      ],
      "text/plain": [
       "                         ID  Distributor  Product  Duration  Destination  \\\n",
       "0  fffe31003600330038003500            6       16         8           60   \n",
       "1  fffe33003600300031003400            2        4       368          112   \n",
       "2          fffe320033003300            2        4       387          112   \n",
       "3          fffe390039003800            7       10         4           25   \n",
       "4      fffe3500350031003000           11       20        40           59   \n",
       "\n",
       "    Sales  Commission  Gender  Age  \n",
       "0   69.30       41.58     NaN   51  \n",
       "1  161.00       40.25     0.0   51  \n",
       "2  291.75       72.94     0.0   51  \n",
       "3   18.00        0.00     NaN   36  \n",
       "4   39.50       25.68     0.0   38  "
      ]
     },
     "execution_count": 5,
     "metadata": {},
     "output_type": "execute_result"
    }
   ],
   "source": [
    "df_test.head()"
   ]
  },
  {
   "cell_type": "code",
   "execution_count": 6,
   "metadata": {},
   "outputs": [
    {
     "data": {
      "text/plain": [
       "ID                0\n",
       "Distributor       0\n",
       "Product           0\n",
       "Duration          0\n",
       "Destination       0\n",
       "Sales             0\n",
       "Commission        0\n",
       "Gender         4704\n",
       "Age               0\n",
       "Target            0\n",
       "dtype: int64"
      ]
     },
     "execution_count": 6,
     "metadata": {},
     "output_type": "execute_result"
    }
   ],
   "source": [
    "# Searching for missing values\n",
    "df_train.isna().sum()"
   ]
  },
  {
   "cell_type": "code",
   "execution_count": 7,
   "metadata": {},
   "outputs": [],
   "source": [
    "# Spliting df_train into X and y(target)\n",
    "X_train = df_train.drop(columns=\"Target\")\n",
    "y_train = df_train[\"Target\"].copy()"
   ]
  },
  {
   "cell_type": "code",
   "execution_count": 8,
   "metadata": {},
   "outputs": [
    {
     "data": {
      "text/html": [
       "<div>\n",
       "<style scoped>\n",
       "    .dataframe tbody tr th:only-of-type {\n",
       "        vertical-align: middle;\n",
       "    }\n",
       "\n",
       "    .dataframe tbody tr th {\n",
       "        vertical-align: top;\n",
       "    }\n",
       "\n",
       "    .dataframe thead th {\n",
       "        text-align: right;\n",
       "    }\n",
       "</style>\n",
       "<table border=\"1\" class=\"dataframe\">\n",
       "  <thead>\n",
       "    <tr style=\"text-align: right;\">\n",
       "      <th></th>\n",
       "      <th>Distributor</th>\n",
       "      <th>Product</th>\n",
       "      <th>Duration</th>\n",
       "      <th>Destination</th>\n",
       "      <th>Sales</th>\n",
       "      <th>Commission</th>\n",
       "      <th>Gender</th>\n",
       "      <th>Age</th>\n",
       "    </tr>\n",
       "  </thead>\n",
       "  <tbody>\n",
       "    <tr>\n",
       "      <th>count</th>\n",
       "      <td>6736.000000</td>\n",
       "      <td>6736.00000</td>\n",
       "      <td>6736.000000</td>\n",
       "      <td>6736.000000</td>\n",
       "      <td>6736.000000</td>\n",
       "      <td>6736.000000</td>\n",
       "      <td>2032.000000</td>\n",
       "      <td>6736.000000</td>\n",
       "    </tr>\n",
       "    <tr>\n",
       "      <th>mean</th>\n",
       "      <td>6.563539</td>\n",
       "      <td>9.40380</td>\n",
       "      <td>51.588034</td>\n",
       "      <td>81.681413</td>\n",
       "      <td>42.802316</td>\n",
       "      <td>10.469831</td>\n",
       "      <td>0.512795</td>\n",
       "      <td>39.880344</td>\n",
       "    </tr>\n",
       "    <tr>\n",
       "      <th>std</th>\n",
       "      <td>2.440587</td>\n",
       "      <td>6.62581</td>\n",
       "      <td>79.504738</td>\n",
       "      <td>39.530726</td>\n",
       "      <td>52.408053</td>\n",
       "      <td>20.342999</td>\n",
       "      <td>0.499959</td>\n",
       "      <td>13.872811</td>\n",
       "    </tr>\n",
       "    <tr>\n",
       "      <th>min</th>\n",
       "      <td>0.000000</td>\n",
       "      <td>0.00000</td>\n",
       "      <td>-1.000000</td>\n",
       "      <td>0.000000</td>\n",
       "      <td>-277.200000</td>\n",
       "      <td>0.000000</td>\n",
       "      <td>0.000000</td>\n",
       "      <td>1.000000</td>\n",
       "    </tr>\n",
       "    <tr>\n",
       "      <th>25%</th>\n",
       "      <td>6.000000</td>\n",
       "      <td>2.00000</td>\n",
       "      <td>10.000000</td>\n",
       "      <td>55.000000</td>\n",
       "      <td>18.000000</td>\n",
       "      <td>0.000000</td>\n",
       "      <td>0.000000</td>\n",
       "      <td>35.000000</td>\n",
       "    </tr>\n",
       "    <tr>\n",
       "      <th>50%</th>\n",
       "      <td>7.000000</td>\n",
       "      <td>10.00000</td>\n",
       "      <td>23.000000</td>\n",
       "      <td>86.000000</td>\n",
       "      <td>28.000000</td>\n",
       "      <td>0.000000</td>\n",
       "      <td>1.000000</td>\n",
       "      <td>36.000000</td>\n",
       "    </tr>\n",
       "    <tr>\n",
       "      <th>75%</th>\n",
       "      <td>7.000000</td>\n",
       "      <td>16.00000</td>\n",
       "      <td>54.000000</td>\n",
       "      <td>112.000000</td>\n",
       "      <td>49.500000</td>\n",
       "      <td>11.880000</td>\n",
       "      <td>1.000000</td>\n",
       "      <td>44.000000</td>\n",
       "    </tr>\n",
       "    <tr>\n",
       "      <th>max</th>\n",
       "      <td>15.000000</td>\n",
       "      <td>25.00000</td>\n",
       "      <td>444.000000</td>\n",
       "      <td>139.000000</td>\n",
       "      <td>666.000000</td>\n",
       "      <td>262.760000</td>\n",
       "      <td>1.000000</td>\n",
       "      <td>118.000000</td>\n",
       "    </tr>\n",
       "  </tbody>\n",
       "</table>\n",
       "</div>"
      ],
      "text/plain": [
       "       Distributor     Product     Duration  Destination        Sales  \\\n",
       "count  6736.000000  6736.00000  6736.000000  6736.000000  6736.000000   \n",
       "mean      6.563539     9.40380    51.588034    81.681413    42.802316   \n",
       "std       2.440587     6.62581    79.504738    39.530726    52.408053   \n",
       "min       0.000000     0.00000    -1.000000     0.000000  -277.200000   \n",
       "25%       6.000000     2.00000    10.000000    55.000000    18.000000   \n",
       "50%       7.000000    10.00000    23.000000    86.000000    28.000000   \n",
       "75%       7.000000    16.00000    54.000000   112.000000    49.500000   \n",
       "max      15.000000    25.00000   444.000000   139.000000   666.000000   \n",
       "\n",
       "        Commission       Gender          Age  \n",
       "count  6736.000000  2032.000000  6736.000000  \n",
       "mean     10.469831     0.512795    39.880344  \n",
       "std      20.342999     0.499959    13.872811  \n",
       "min       0.000000     0.000000     1.000000  \n",
       "25%       0.000000     0.000000    35.000000  \n",
       "50%       0.000000     1.000000    36.000000  \n",
       "75%      11.880000     1.000000    44.000000  \n",
       "max     262.760000     1.000000   118.000000  "
      ]
     },
     "execution_count": 8,
     "metadata": {},
     "output_type": "execute_result"
    }
   ],
   "source": [
    "# Descriptive statistics\n",
    "X_train.describe()\n",
    "\n",
    "# Max Age value is strange\n",
    "# Min Sales negative?\n",
    "# Min Duration negative?"
   ]
  },
  {
   "cell_type": "code",
   "execution_count": 28,
   "metadata": {},
   "outputs": [
    {
     "data": {
      "text/plain": [
       "<Axes: xlabel='Age'>"
      ]
     },
     "execution_count": 28,
     "metadata": {},
     "output_type": "execute_result"
    },
    {
     "data": {
      "image/png": "[encoded data removed]",
      "text/plain": [
       "<Figure size 1800x500 with 3 Axes>"
      ]
     },
     "metadata": {},
     "output_type": "display_data"
    }
   ],
   "source": [
    "fig, ax = plt.subplots(1, 3, figsize=(18,5))\n",
    "sns.boxplot(data=X_train, x=df_train[\"Sales\"], ax=ax[0])\n",
    "sns.boxplot(data=X_train, x=df_train[\"Commission\"], ax=ax[1])\n",
    "sns.boxplot(data=X_train, x=df_train[\"Age\"], ax=ax[2])"
   ]
  },
  {
   "cell_type": "code",
   "execution_count": 32,
   "metadata": {},
   "outputs": [
    {
     "data": {
      "text/plain": [
       "array([118])"
      ]
     },
     "execution_count": 32,
     "metadata": {},
     "output_type": "execute_result"
    }
   ],
   "source": [
    "X_train[X_train[\"Age\"] > 100][\"Age\"].unique()"
   ]
  },
  {
   "cell_type": "code",
   "execution_count": null,
   "metadata": {},
   "outputs": [],
   "source": []
  }
 ],
 "metadata": {
  "kernelspec": {
   "display_name": "env_medicine_kit",
   "language": "python",
   "name": "python3"
  },
  "language_info": {
   "codemirror_mode": {
    "name": "ipython",
    "version": 3
   },
   "file_extension": ".py",
   "mimetype": "text/x-python",
   "name": "python",
   "nbconvert_exporter": "python",
   "pygments_lexer": "ipython3",
   "version": "3.12.3"
  }
 },
 "nbformat": 4,
 "nbformat_minor": 2
}
